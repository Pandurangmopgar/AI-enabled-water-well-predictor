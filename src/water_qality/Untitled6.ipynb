{
 "cells": [
  {
   "cell_type": "code",
   "execution_count": 1,
   "id": "5cd82477",
   "metadata": {},
   "outputs": [
    {
     "data": {
      "text/plain": [
       "['E:\\\\GWL\\\\src\\\\water_qality\\\\target_encoder.joblib']"
      ]
     },
     "execution_count": 1,
     "metadata": {},
     "output_type": "execute_result"
    }
   ],
   "source": [
    "import joblib \n",
    "import pandas as pd\n",
    "import pandas as pd\n",
    "from sklearn.model_selection import train_test_split\n",
    "from sklearn.ensemble import RandomForestClassifier\n",
    "from sklearn.preprocessing import StandardScaler, LabelEncoder\n",
    "from sklearn.metrics import classification_report\n",
    "from sklearn.impute import SimpleImputer\n",
    "\n",
    "path=\"E:\\\\GWL\\\\src\\\\water_qality\\\\water_well_drilling_technique_predictor.joblib\"\n",
    "data=pd.read_csv(\"E:\\\\GWL\\\\src\\\\water_qality\\\\updated_dataset_with_drilling_techniques.csv\")\n",
    "# Assuming you've already loaded your dataset into a DataFrame named 'data'\n",
    "# Ensure no missing values in the dataset\n",
    "data.dropna(inplace=True)\n",
    "\n",
    "# Encoding categorical variables\n",
    "label_encoders = {}\n",
    "for column in data.select_dtypes(include=['object']).columns:\n",
    "    label_encoders[column] = LabelEncoder()\n",
    "    data[column] = label_encoders[column].fit_transform(data[column])\n",
    "\n",
    "# Selecting features and target for the model\n",
    "features = ['Broader_Classification_Soil', 'Broader_Classification_Lithology', 'AQUIFER_TYPE', 'WLS_WTR_LEVEL']\n",
    "target = 'Drilling_Technique_By_Water_Level_Aquifer'\n",
    "\n",
    "# Applying label encoding to the target variable\n",
    "target_encoder = LabelEncoder()\n",
    "data[target] = target_encoder.fit_transform(data[target])\n",
    "\n",
    "# Splitting the dataset into features and target\n",
    "X = data[features]\n",
    "y = data[target]\n",
    "\n",
    "# Splitting the dataset into training and testing sets\n",
    "X_train, X_test, y_train, y_test = train_test_split(X, y, test_size=0.2, random_state=42)\n",
    "\n",
    "# Standardizing the features\n",
    "scaler = StandardScaler()\n",
    "X_train_scaled = scaler.fit_transform(X_train)\n",
    "X_test_scaled = scaler.transform(X_test)\n",
    "\n",
    "# Creating and training the RandomForest model\n",
    "model = RandomForestClassifier(random_state=42)\n",
    "model.fit(X_train_scaled, y_train)\n",
    "\n",
    "# Predictions and evaluation\n",
    "y_pred = model.predict(X_test_scaled)\n",
    "# report = classification_report(y_test, y_pred, target_names=target_encoder.classes_)\n",
    "decoded_labels =target_encoder.inverse_transform(y_pred)\n",
    "decoded_labels[100:]\n",
    "# print(report)\n",
    "labels=['Percussion Drilling','Other Drilling Techniques','Artesian Well Drilling','Deep Well Rotary Drilling']\n",
    "lab=labels[decoded_labels[0]]\n",
    "lab\n",
    "import joblib\n",
    "\n",
    "path='E:\\\\GWL\\\\src\\\\water_qality\\\\drill_tech.joblib'\n",
    "model_path = 'E:\\\\GWL\\\\src\\\\water_qality\\\\drill_tech.joblib'\n",
    "scaler_path = 'E:\\\\GWL\\\\src\\\\water_qality\\\\scaler.joblib'\n",
    "label_encoders_path = 'E:\\\\GWL\\\\src\\\\water_qality\\\\label_encoders.joblib'\n",
    "target_encoder_path = 'E:\\\\GWL\\\\src\\\\water_qality\\\\target_encoder.joblib'\n",
    "\n",
    "# Saving the RandomForest model\n",
    "joblib.dump(model, model_path)\n",
    "\n",
    "# Saving the StandardScaler object\n",
    "joblib.dump(scaler, scaler_path)\n",
    "\n",
    "# Saving the LabelEncoder objects for features\n",
    "joblib.dump(label_encoders, label_encoders_path)\n",
    "\n",
    "# Saving the LabelEncoder for the target variable\n",
    "joblib.dump(target_encoder, target_encoder_path)\n",
    "# dump(model,path)"
   ]
  },
  {
   "cell_type": "code",
   "execution_count": 25,
   "id": "6a30e81a",
   "metadata": {},
   "outputs": [
    {
     "name": "stderr",
     "output_type": "stream",
     "text": [
      "C:\\Users\\admin\\AppData\\Local\\Temp\\ipykernel_29432\\863790112.py:21: DtypeWarning: Columns (12) have mixed types. Specify dtype option on import or set low_memory=False.\n",
      "  df2=pd.read_csv(\"E:\\\\GWL\\\\src\\\\water_qality\\\\updated_dataset_with_water_well_suitability.csv\")\n",
      "C:\\Users\\admin\\AppData\\Local\\Temp\\ipykernel_29432\\863790112.py:37: SettingWithCopyWarning: \n",
      "A value is trying to be set on a copy of a slice from a DataFrame\n",
      "\n",
      "See the caveats in the documentation: https://pandas.pydata.org/pandas-docs/stable/user_guide/indexing.html#returning-a-view-versus-a-copy\n",
      "  new_data.dropna(inplace=True)\n"
     ]
    },
    {
     "ename": "NameError",
     "evalue": "name 'label_encoder' is not defined",
     "output_type": "error",
     "traceback": [
      "\u001b[1;31m---------------------------------------------------------------------------\u001b[0m",
      "\u001b[1;31mNameError\u001b[0m                                 Traceback (most recent call last)",
      "Cell \u001b[1;32mIn[25], line 41\u001b[0m\n\u001b[0;32m     39\u001b[0m \u001b[38;5;66;03m# Encode categorical variables (using the same label encoders)\u001b[39;00m\n\u001b[0;32m     40\u001b[0m \u001b[38;5;28;01mfor\u001b[39;00m column \u001b[38;5;129;01min\u001b[39;00m new_data\u001b[38;5;241m.\u001b[39mselect_dtypes(include\u001b[38;5;241m=\u001b[39m[\u001b[38;5;124m'\u001b[39m\u001b[38;5;124mobject\u001b[39m\u001b[38;5;124m'\u001b[39m])\u001b[38;5;241m.\u001b[39mcolumns:\n\u001b[1;32m---> 41\u001b[0m     new_data[column] \u001b[38;5;241m=\u001b[39m \u001b[43mlabel_encoder\u001b[49m[column]\u001b[38;5;241m.\u001b[39mtransform(new_data[column])\n\u001b[0;32m     43\u001b[0m \u001b[38;5;66;03m# Selecting features\u001b[39;00m\n\u001b[0;32m     44\u001b[0m features \u001b[38;5;241m=\u001b[39m [\u001b[38;5;124m'\u001b[39m\u001b[38;5;124mBroader_Classification_Soil\u001b[39m\u001b[38;5;124m'\u001b[39m, \u001b[38;5;124m'\u001b[39m\u001b[38;5;124mBroader_Classification_Lithology\u001b[39m\u001b[38;5;124m'\u001b[39m, \u001b[38;5;124m'\u001b[39m\u001b[38;5;124mAQUIFER_TYPE\u001b[39m\u001b[38;5;124m'\u001b[39m, \u001b[38;5;124m'\u001b[39m\u001b[38;5;124mWLS_WTR_LEVEL\u001b[39m\u001b[38;5;124m'\u001b[39m]\n",
      "\u001b[1;31mNameError\u001b[0m: name 'label_encoder' is not defined"
     ]
    }
   ],
   "source": [
    "import joblib\n",
    "model=joblib.load('E:\\\\GWL\\\\src\\\\water_qality\\\\drill_tech.joblib')\n",
    "\n",
    "#                   import pandas as pd\n",
    "# import joblib\n",
    "import numpy as np\n",
    "model=joblib.load(path)\n",
    "# infall_with_lithology.csv\"\n",
    "df2=pd.read_csv(\"E:\\\\GWL\\\\src\\\\water_qality\\\\updated_dataset_with_water_well_suitability.csv\")\n",
    "# df.head()\n",
    "df2['Latitude'] = pd.to_numeric(df2['Latitude'], errors='coerce')\n",
    "df2['Longitude'] = pd.to_numeric(df2['Longitude'], errors='coerce')\n",
    "df2.dropna(subset=['Latitude', 'Longitude'], inplace=True)\n",
    "# df.head()\n",
    "coordinates2 = df2[['Latitude', 'Longitude']].values\n",
    "neigh5 = NearestNeighbors(n_neighbors=1)\n",
    "neigh5.fit(coordinates2)\n",
    "lat=29.430789480840957\n",
    "lng=74.99153373951383\n",
    "distances, indices = neigh5.kneighbors(np.array([[lat, lng]]))\n",
    "nearest_index = indices[0][0]\n",
    "new_data=df2.iloc[[nearest_index]]\n",
    "# result_2\n",
    "data.dropna(inplace=True)\n",
    "target_encoder = joblib.load('E:\\\\GWL\\\\src\\\\water_qality\\\\target_encoder.joblib')\n",
    "for column in new_data.select_dtypes(include=['object']).columns:\n",
    "    if column in label_encoders:\n",
    "        new_data[column] = label_encoders[column].transform(new_data[column])\n",
    "# new_data.dropna(inplace=True)\n",
    "\n",
    "# Selecting features\n",
    "features = ['Broader_Classification_Soil', 'Broader_Classification_Lithology', 'AQUIFER_TYPE', 'WLS_WTR_LEVEL']\n",
    "X_new = new_data[features]\n",
    "target_encoder = joblib.load('E:\\\\GWL\\\\src\\\\water_qality\\\\target_encoder.joblib')\n",
    "# Scaling the features (using the same scaler)\n",
    "X_new_scaled = scaler.transform(X_new)\n",
    "\n",
    "# Making predictions\n",
    "y_pred_encoded = model.predict(X_new_scaled)\n"
   ]
  }
 ],
 "metadata": {
  "kernelspec": {
   "display_name": "Python 3 (ipykernel)",
   "language": "python",
   "name": "python3"
  },
  "language_info": {
   "codemirror_mode": {
    "name": "ipython",
    "version": 3
   },
   "file_extension": ".py",
   "mimetype": "text/x-python",
   "name": "python",
   "nbconvert_exporter": "python",
   "pygments_lexer": "ipython3",
   "version": "3.11.1"
  }
 },
 "nbformat": 4,
 "nbformat_minor": 5
}
