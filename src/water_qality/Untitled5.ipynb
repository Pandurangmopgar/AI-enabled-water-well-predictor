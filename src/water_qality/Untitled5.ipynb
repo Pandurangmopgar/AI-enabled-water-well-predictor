{
 "cells": [
  {
   "cell_type": "code",
   "execution_count": 16,
   "id": "4a6d8740",
   "metadata": {},
   "outputs": [
    {
     "name": "stderr",
     "output_type": "stream",
     "text": [
      "C:\\Users\\admin\\AppData\\Local\\Temp\\ipykernel_24228\\2270209613.py:11: DtypeWarning: Columns (12) have mixed types. Specify dtype option on import or set low_memory=False.\n",
      "  df=pd.read_csv('E:\\\\GWL\\\\src\\\\water_qality\\\\updated_dataset_with_water_well_suitability.csv')\n",
      "C:\\Users\\admin\\AppData\\Roaming\\Python\\Python311\\site-packages\\sklearn\\base.py:329: UserWarning: Trying to unpickle estimator DecisionTreeClassifier from version 1.0 when using version 1.1.3. This might lead to breaking code or invalid results. Use at your own risk. For more info please refer to:\n",
      "https://scikit-learn.org/stable/model_persistence.html#security-maintainability-limitations\n",
      "  warnings.warn(\n",
      "C:\\Users\\admin\\AppData\\Roaming\\Python\\Python311\\site-packages\\sklearn\\base.py:329: UserWarning: Trying to unpickle estimator RandomForestClassifier from version 1.0 when using version 1.1.3. This might lead to breaking code or invalid results. Use at your own risk. For more info please refer to:\n",
      "https://scikit-learn.org/stable/model_persistence.html#security-maintainability-limitations\n",
      "  warnings.warn(\n",
      "C:\\Users\\admin\\AppData\\Local\\Temp\\ipykernel_24228\\2270209613.py:42: SettingWithCopyWarning: \n",
      "A value is trying to be set on a copy of a slice from a DataFrame.\n",
      "Try using .loc[row_indexer,col_indexer] = value instead\n",
      "\n",
      "See the caveats in the documentation: https://pandas.pydata.org/pandas-docs/stable/user_guide/indexing.html#returning-a-view-versus-a-copy\n",
      "  X[feature] = label_encoders[feature].fit_transform(X[feature])\n"
     ]
    },
    {
     "data": {
      "text/plain": [
       "array(['Not Suitable'], dtype=object)"
      ]
     },
     "execution_count": 16,
     "metadata": {},
     "output_type": "execute_result"
    }
   ],
   "source": [
    "# MODEL1\n",
    "from flask import Flask, request, jsonify\n",
    "import pandas as pd\n",
    "import numpy as np\n",
    "import joblib\n",
    "from sklearn.neighbors import NearestNeighbors\n",
    "from flask_cors import CORS  # Import CORS\n",
    "import logging\n",
    "from sklearn.preprocessing import LabelEncoder\n",
    "\n",
    "df=pd.read_csv('E:\\\\GWL\\\\src\\\\water_qality\\\\updated_dataset_with_water_well_suitability.csv')\n",
    "model=joblib.load('E:\\\\GWL\\\\src\\\\water_qality\\\\water_well_suitability_rf_model.joblib')\n",
    "df['Latitude'] = pd.to_numeric(df['Latitude'], errors='coerce')\n",
    "df['Longitude'] = pd.to_numeric(df['Longitude'], errors='coerce')\n",
    "df.dropna(subset=['Latitude', 'Longitude'], inplace=True)\n",
    "\n",
    "coordinates1 = df[['Latitude', 'Longitude']].values\n",
    "neigh2 = NearestNeighbors(n_neighbors=1)\n",
    "neigh2.fit(coordinates1)\n",
    "\n",
    "lat=37.496176495518768\n",
    "lng=88.7773061532471\n",
    "\n",
    "\n",
    "\n",
    "\n",
    "distances, indices = neigh2.kneighbors(np.array([[lat, lng]]))\n",
    "nearest_index = indices[0][0]\n",
    "result = df.iloc[[nearest_index]]\n",
    "\n",
    "\n",
    "\n",
    "\n",
    "\n",
    "\n",
    "# MODEL1\n",
    "features = ['AQUIFER_TYPE', 'Broad_Soil_Type', 'WLS_WTR_LEVEL_Categorized', 'SITE_TYPE']\n",
    "X = result[features]\n",
    "label_encoders = {}\n",
    "for feature in features:\n",
    "    label_encoders[feature] = LabelEncoder()\n",
    "    X[feature] = label_encoders[feature].fit_transform(X[feature])\n",
    "X\n",
    "suit_predictions = model.predict(X)\n",
    "suit_predictions"
   ]
  },
  {
   "cell_type": "code",
   "execution_count": null,
   "id": "7a4e906a",
   "metadata": {},
   "outputs": [],
   "source": []
  }
 ],
 "metadata": {
  "kernelspec": {
   "display_name": "Python 3 (ipykernel)",
   "language": "python",
   "name": "python3"
  },
  "language_info": {
   "codemirror_mode": {
    "name": "ipython",
    "version": 3
   },
   "file_extension": ".py",
   "mimetype": "text/x-python",
   "name": "python",
   "nbconvert_exporter": "python",
   "pygments_lexer": "ipython3",
   "version": "3.11.1"
  }
 },
 "nbformat": 4,
 "nbformat_minor": 5
}
