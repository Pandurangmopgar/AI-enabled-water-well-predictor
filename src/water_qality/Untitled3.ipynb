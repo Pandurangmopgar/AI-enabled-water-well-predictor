{
 "cells": [
  {
   "cell_type": "code",
   "execution_count": 13,
   "id": "018e0221",
   "metadata": {},
   "outputs": [],
   "source": [
    "import pandas as pd\n",
    "from sklearn.model_selection import train_test_split\n",
    "from sklearn.preprocessing import OneHotEncoder\n",
    "from sklearn.impute import SimpleImputer\n",
    "from sklearn.compose import ColumnTransformer\n",
    "\n",
    "# Load the dataset\n",
    "# df = pd.read_csv('.csv')\n",
    "df=pd.read_csv(\"E:\\\\GWL\\\\src\\\\water_qality\\\\updated_dataset_with_drilling_techniques.csv\")\n",
    "# df.head()\n",
    "# df['WLS_WTR_LEVEL']\n",
    "# Select relevant columns\n",
    "selected_features = ['AQUIFER_TYPE', 'Total Annual Ground Water Recharge', 'Broad_Soil_Type', 'Broader_Classification_Lithology']\n",
    "df_selected = df[selected_features]\n",
    "\n",
    "\n",
    "# Define numerical and categorical columns\n",
    "num_cols = df_selected.select_dtypes(include=['float64', 'int64']).columns.tolist()\n",
    "cat_cols = df_selected.select_dtypes(include=['object']).columns.tolist()\n",
    "\n",
    "# Create column transformer for preprocessing\n",
    "preprocessor = ColumnTransformer(\n",
    "    transformers=[\n",
    "        ('num', SimpleImputer(strategy='median'), num_cols),\n",
    "        ('cat', OneHotEncoder(), cat_cols)\n",
    "    ])\n",
    "\n",
    "# Apply transformations\n",
    "X = df_selected\n",
    "y = df['WLS_WTR_LEVEL']\n",
    "X_transformed = preprocessor.fit_transform(X)\n"
   ]
  },
  {
   "cell_type": "code",
   "execution_count": 15,
   "id": "aef6a46f",
   "metadata": {},
   "outputs": [
    {
     "name": "stdout",
     "output_type": "stream",
     "text": [
      "MSE: 48.376513985524696\n",
      "R-squared: 0.6015968352443286\n"
     ]
    }
   ],
   "source": [
    "from sklearn.ensemble import RandomForestRegressor\n",
    "from sklearn.metrics import mean_squared_error, r2_score\n",
    "\n",
    "# Splitting the data\n",
    "X_train, X_test, y_train, y_test = train_test_split(X_transformed, y, test_size=0.2, random_state=0)\n",
    "\n",
    "# Train the model\n",
    "model = RandomForestRegressor(n_estimators=100, random_state=0)\n",
    "model.fit(X_train, y_train)\n",
    "\n",
    "# Evaluate the model\n",
    "y_pred = model.predict(X_test)\n",
    "mse = mean_squared_error(y_test, y_pred)\n",
    "r2 = r2_score(y_test, y_pred)\n",
    "print('MSE:', mse)\n",
    "print('R-squared:', r2)\n"
   ]
  },
  {
   "cell_type": "code",
   "execution_count": null,
   "id": "5405ac2d",
   "metadata": {},
   "outputs": [],
   "source": [
    "import joblib\n",
    "\n",
    "# Save the model\n",
    "model_save_path = 'path_to_save_model.pkl'\n",
    "joblib.dump(model, model_save_path)\n"
   ]
  }
 ],
 "metadata": {
  "kernelspec": {
   "display_name": "Python 3 (ipykernel)",
   "language": "python",
   "name": "python3"
  },
  "language_info": {
   "codemirror_mode": {
    "name": "ipython",
    "version": 3
   },
   "file_extension": ".py",
   "mimetype": "text/x-python",
   "name": "python",
   "nbconvert_exporter": "python",
   "pygments_lexer": "ipython3",
   "version": "3.11.1"
  }
 },
 "nbformat": 4,
 "nbformat_minor": 5
}
