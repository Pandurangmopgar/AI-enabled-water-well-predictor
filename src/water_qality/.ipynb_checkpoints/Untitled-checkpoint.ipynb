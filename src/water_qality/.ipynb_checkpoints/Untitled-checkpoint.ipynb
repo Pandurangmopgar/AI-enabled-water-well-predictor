{
 "cells": [
  {
   "cell_type": "code",
   "execution_count": null,
   "id": "fa43efd9",
   "metadata": {},
   "outputs": [],
   "source": []
  },
  {
   "cell_type": "code",
   "execution_count": 39,
   "id": "ffc4dd45",
   "metadata": {},
   "outputs": [
    {
     "name": "stdout",
     "output_type": "stream",
     "text": [
      "Accuracy: 0.9570508231925555\n",
      "Classification Report:\n",
      "               precision    recall  f1-score   support\n",
      "\n",
      "   Excellent       1.00      1.00      1.00       749\n",
      "        Good       0.95      0.97      0.96       411\n",
      "    Moderate       0.82      0.74      0.78       121\n",
      "        Poor       0.87      0.85      0.86       101\n",
      "       Worst       0.81      0.87      0.84        15\n",
      "\n",
      "    accuracy                           0.96      1397\n",
      "   macro avg       0.89      0.89      0.89      1397\n",
      "weighted avg       0.96      0.96      0.96      1397\n",
      "\n",
      "Model saved successfully!\n"
     ]
    }
   ],
   "source": [
    "import pandas as pd\n",
    "from sklearn.model_selection import train_test_split\n",
    "from sklearn.ensemble import RandomForestClassifier\n",
    "from sklearn.metrics import classification_report, accuracy_score\n",
    "from sklearn.impute import KNNImputer\n",
    "from sklearn.preprocessing import MinMaxScaler\n",
    "import re\n",
    "\n",
    "# Load the data\n",
    "file_path = 'adjusted_water_quality_data_v2.csv'  # Replace with your file path\n",
    "data = pd.read_csv(file_path)\n",
    "data.head()\n",
    "# Convert specific columns to numeric, handling non-numeric entries\n",
    "columns_to_convert = ['pH', 'SO4', 'NO3', 'Mg', 'K', 'F']\n",
    "for col in columns_to_convert:\n",
    "    data[col] = pd.to_numeric(data[col], errors='coerce')\n",
    "\n",
    "# Scaling and imputing missing values\n",
    "imputation_columns = ['pH', 'TDS', 'Cl', 'SO4', 'NO3', 'TH', 'Ca', 'Mg', 'Na', 'K', 'F']\n",
    "scaler = MinMaxScaler()\n",
    "data_scaled = scaler.fit_transform(data[imputation_columns])\n",
    "knn_imputer = KNNImputer(n_neighbors=5)\n",
    "data_imputed_scaled = knn_imputer.fit_transform(data_scaled)\n",
    "data_imputed = pd.DataFrame(scaler.inverse_transform(data_imputed_scaled), columns=imputation_columns)\n",
    "data[imputation_columns] = data_imputed\n",
    "\n",
    "# Function to reclassify water quality\n",
    "def reclassify_water_quality(row):\n",
    "    # Criteria for reclassification\n",
    "    exceedances = sum([\n",
    "        row['pH'] < 6.5 or row['pH'] > 8.5,\n",
    "        row['TDS'] > 1000,\n",
    "        row['Cl'] > 250,\n",
    "        row['SO4'] > 250,\n",
    "        row['NO3'] > 50,\n",
    "        row['TH'] > 500,\n",
    "        row['Ca'] > 75,\n",
    "        row['Mg'] > 50\n",
    "    ])\n",
    "    if exceedances == 0:\n",
    "        return 'Excellent'\n",
    "    elif exceedances <= 2:\n",
    "        return 'Good'\n",
    "    elif exceedances <= 4:\n",
    "        return 'Moderate'\n",
    "    elif exceedances <= 6:\n",
    "        return 'Poor'\n",
    "    else:\n",
    "        return 'Worst'\n",
    "\n",
    "data['Water_Quality_New'] = data.apply(reclassify_water_quality, axis=1)\n",
    "\n",
    "# Preparing features and target for model training\n",
    "# features = ['pH', 'TDS', 'Cl', 'TH', 'NO3', 'Ca', 'Mg']\n",
    "features = ['pH', 'Cl', 'NO3', 'TH',  'Ca', 'Mg','TDS']\n",
    "X = data[features]\n",
    "y = data['Water_Quality_New']\n",
    "\n",
    "# Splitting the dataset\n",
    "X_train, X_test, y_train, y_test = train_test_split(X, y, test_size=0.2, random_state=42)\n",
    "\n",
    "# Initialize and train the RandomForestClassifier\n",
    "rf_classifier = RandomForestClassifier(random_state=42)\n",
    "rf_classifier.fit(X_train, y_train)\n",
    "\n",
    "# Predict and evaluate the model\n",
    "y_pred = rf_classifier.predict(X_test)\n",
    "accuracy = accuracy_score(y_test, y_pred)\n",
    "classification_rep = classification_report(y_test, y_pred)\n",
    "\n",
    "# Print the results\n",
    "print(\"Accuracy:\", accuracy)\n",
    "\n",
    "print(\"Classification Report:\\n\", classification_rep)\n",
    "# features = data.drop(columns=['Longitude','Latitude','Well_ID', 'S.No', 'State', 'District', 'Taluka','Site','EC','CO3','SO4','Na','K','F','Year','Water_Quality_New'])\n",
    "        # features_scaled = scaler.transform(features)\n",
    "\n",
    "        # Make a prediction\n",
    "# prediction = rf_classifier.predict(features)\n",
    "import pickle\n",
    "\n",
    "# Assuming 'rf_classifier' is your trained RandomForestClassifier model\n",
    "\n",
    "# Save the trained model to a file\n",
    "filename = 'finalized_model.pkl'\n",
    "with open(filename, 'wb') as file:\n",
    "    pickle.dump(rf_classifier, file)\n",
    "\n",
    "print(\"Model saved successfully!\")\n",
    "\n"
   ]
  },
  {
   "cell_type": "code",
   "execution_count": 42,
   "id": "0634793b",
   "metadata": {},
   "outputs": [
    {
     "data": {
      "text/html": [
       "<style>#sk-container-id-3 {color: black;background-color: white;}#sk-container-id-3 pre{padding: 0;}#sk-container-id-3 div.sk-toggleable {background-color: white;}#sk-container-id-3 label.sk-toggleable__label {cursor: pointer;display: block;width: 100%;margin-bottom: 0;padding: 0.3em;box-sizing: border-box;text-align: center;}#sk-container-id-3 label.sk-toggleable__label-arrow:before {content: \"▸\";float: left;margin-right: 0.25em;color: #696969;}#sk-container-id-3 label.sk-toggleable__label-arrow:hover:before {color: black;}#sk-container-id-3 div.sk-estimator:hover label.sk-toggleable__label-arrow:before {color: black;}#sk-container-id-3 div.sk-toggleable__content {max-height: 0;max-width: 0;overflow: hidden;text-align: left;background-color: #f0f8ff;}#sk-container-id-3 div.sk-toggleable__content pre {margin: 0.2em;color: black;border-radius: 0.25em;background-color: #f0f8ff;}#sk-container-id-3 input.sk-toggleable__control:checked~div.sk-toggleable__content {max-height: 200px;max-width: 100%;overflow: auto;}#sk-container-id-3 input.sk-toggleable__control:checked~label.sk-toggleable__label-arrow:before {content: \"▾\";}#sk-container-id-3 div.sk-estimator input.sk-toggleable__control:checked~label.sk-toggleable__label {background-color: #d4ebff;}#sk-container-id-3 div.sk-label input.sk-toggleable__control:checked~label.sk-toggleable__label {background-color: #d4ebff;}#sk-container-id-3 input.sk-hidden--visually {border: 0;clip: rect(1px 1px 1px 1px);clip: rect(1px, 1px, 1px, 1px);height: 1px;margin: -1px;overflow: hidden;padding: 0;position: absolute;width: 1px;}#sk-container-id-3 div.sk-estimator {font-family: monospace;background-color: #f0f8ff;border: 1px dotted black;border-radius: 0.25em;box-sizing: border-box;margin-bottom: 0.5em;}#sk-container-id-3 div.sk-estimator:hover {background-color: #d4ebff;}#sk-container-id-3 div.sk-parallel-item::after {content: \"\";width: 100%;border-bottom: 1px solid gray;flex-grow: 1;}#sk-container-id-3 div.sk-label:hover label.sk-toggleable__label {background-color: #d4ebff;}#sk-container-id-3 div.sk-serial::before {content: \"\";position: absolute;border-left: 1px solid gray;box-sizing: border-box;top: 0;bottom: 0;left: 50%;z-index: 0;}#sk-container-id-3 div.sk-serial {display: flex;flex-direction: column;align-items: center;background-color: white;padding-right: 0.2em;padding-left: 0.2em;position: relative;}#sk-container-id-3 div.sk-item {position: relative;z-index: 1;}#sk-container-id-3 div.sk-parallel {display: flex;align-items: stretch;justify-content: center;background-color: white;position: relative;}#sk-container-id-3 div.sk-item::before, #sk-container-id-3 div.sk-parallel-item::before {content: \"\";position: absolute;border-left: 1px solid gray;box-sizing: border-box;top: 0;bottom: 0;left: 50%;z-index: -1;}#sk-container-id-3 div.sk-parallel-item {display: flex;flex-direction: column;z-index: 1;position: relative;background-color: white;}#sk-container-id-3 div.sk-parallel-item:first-child::after {align-self: flex-end;width: 50%;}#sk-container-id-3 div.sk-parallel-item:last-child::after {align-self: flex-start;width: 50%;}#sk-container-id-3 div.sk-parallel-item:only-child::after {width: 0;}#sk-container-id-3 div.sk-dashed-wrapped {border: 1px dashed gray;margin: 0 0.4em 0.5em 0.4em;box-sizing: border-box;padding-bottom: 0.4em;background-color: white;}#sk-container-id-3 div.sk-label label {font-family: monospace;font-weight: bold;display: inline-block;line-height: 1.2em;}#sk-container-id-3 div.sk-label-container {text-align: center;}#sk-container-id-3 div.sk-container {/* jupyter's `normalize.less` sets `[hidden] { display: none; }` but bootstrap.min.css set `[hidden] { display: none !important; }` so we also need the `!important` here to be able to override the default hidden behavior on the sphinx rendered scikit-learn.org. See: https://github.com/scikit-learn/scikit-learn/issues/21755 */display: inline-block !important;position: relative;}#sk-container-id-3 div.sk-text-repr-fallback {display: none;}</style><div id=\"sk-container-id-3\" class=\"sk-top-container\"><div class=\"sk-text-repr-fallback\"><pre>NearestNeighbors(n_neighbors=1)</pre><b>In a Jupyter environment, please rerun this cell to show the HTML representation or trust the notebook. <br />On GitHub, the HTML representation is unable to render, please try loading this page with nbviewer.org.</b></div><div class=\"sk-container\" hidden><div class=\"sk-item\"><div class=\"sk-estimator sk-toggleable\"><input class=\"sk-toggleable__control sk-hidden--visually\" id=\"sk-estimator-id-3\" type=\"checkbox\" checked><label for=\"sk-estimator-id-3\" class=\"sk-toggleable__label sk-toggleable__label-arrow\">NearestNeighbors</label><div class=\"sk-toggleable__content\"><pre>NearestNeighbors(n_neighbors=1)</pre></div></div></div></div></div>"
      ],
      "text/plain": [
       "NearestNeighbors(n_neighbors=1)"
      ]
     },
     "execution_count": 42,
     "metadata": {},
     "output_type": "execute_result"
    }
   ],
   "source": [
    "features=data.drop(['Well_ID','S.No','State','District','Taluka','Site','Latitude','Longitude','Year','EC','CO3','SO4','Na','K','F','''Water_Quality_New'''],axis=1)\n",
    "pred= rf_classifier.predict(features)\n",
    "features.head()\n",
    "pred\n",
    "# import joblib\n",
    "import pandas as pd\n",
    "import numpy as np\n",
    "import joblib\n",
    "from sklearn.neighbors import NearestNeighbors\n",
    "# data.head()\n",
    "# Load the model from the file\n",
    "import pickle\n",
    "model= joblib.load(filename)\n",
    "\n",
    "# Now you can use 'loaded_model' to make predictions\n",
    "# prediction = loaded_model.predict(input_data)\n",
    "\n",
    "# path=\"E:\\\\GWL\\\\src\\\\water_qality\\\\random_forest_water_quality_model.joblib\"\n",
    "# clf=joblib.load(path)\n",
    "# Load the dataset\n",
    "df = pd.read_csv('E:\\\\GWL\\\\src\\\\water_qality\\\\adjusted_water_quality_data_v2.csv')\n",
    "\n",
    "# Convert LATITUDE and LONGITUDE to numeric and drop NaN values\n",
    "df['Latitude'] = pd.to_numeric(df['Latitude'], errors='coerce')\n",
    "df['Longitude'] = pd.to_numeric(df['Longitude'], errors='coerce')\n",
    "df.dropna(subset=['Latitude', 'Longitude'], inplace=True)\n",
    "\n",
    "# Fit the NearestNeighbors model\n",
    "coordinates = df[['Latitude', 'Longitude']].values\n",
    "neigh = NearestNeighbors(n_neighbors=1)\n",
    "neigh.fit(coordinates)"
   ]
  },
  {
   "cell_type": "code",
   "execution_count": 44,
   "id": "df6271a9",
   "metadata": {},
   "outputs": [
    {
     "data": {
      "text/plain": [
       "array(['Poor'], dtype=object)"
      ]
     },
     "execution_count": 44,
     "metadata": {},
     "output_type": "execute_result"
    }
   ],
   "source": [
    "lat=26.60197816638055\n",
    "lng=75.97487404956186\n",
    "distances, indices = neigh.kneighbors(np.array([[lat, lng]]))\n",
    "nearest_index = indices[0][0]\n",
    "query_result = df.iloc[[nearest_index]]\n",
    "query_result\n",
    "\n",
    "features=query_result[['pH', 'Cl', 'NO3', 'TH',  'Ca', 'Mg','TDS']]\n",
    "# ['pH', 'Cl', 'NO3', 'TH',  'Ca', 'Mg','TDS']\n",
    "prediction = model.predict(features)\n",
    "features\n",
    "prediction"
   ]
  }
 ],
 "metadata": {
  "kernelspec": {
   "display_name": "Python 3 (ipykernel)",
   "language": "python",
   "name": "python3"
  },
  "language_info": {
   "codemirror_mode": {
    "name": "ipython",
    "version": 3
   },
   "file_extension": ".py",
   "mimetype": "text/x-python",
   "name": "python",
   "nbconvert_exporter": "python",
   "pygments_lexer": "ipython3",
   "version": "3.11.1"
  }
 },
 "nbformat": 4,
 "nbformat_minor": 5
}
