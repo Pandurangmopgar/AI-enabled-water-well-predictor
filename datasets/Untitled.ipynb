{
 "cells": [
  {
   "cell_type": "code",
   "execution_count": 3,
   "id": "07a83a75",
   "metadata": {},
   "outputs": [
    {
     "data": {
      "text/plain": [
       "(0.9975713418336369,\n",
       " '              precision    recall  f1-score   support\\n\\n        Good       0.98      0.98      0.98       128\\n        Poor       1.00      1.00      1.00      1519\\n\\n    accuracy                           1.00      1647\\n   macro avg       0.99      0.99      0.99      1647\\nweighted avg       1.00      1.00      1.00      1647\\n')"
      ]
     },
     "execution_count": 3,
     "metadata": {},
     "output_type": "execute_result"
    }
   ],
   "source": [
    "# Importing necessary libraries\n",
    "import pandas as pd\n",
    "import numpy as np\n",
    "from sklearn.model_selection import train_test_split\n",
    "from sklearn.ensemble import RandomForestClassifier\n",
    "from sklearn.metrics import classification_report, accuracy_score\n",
    "from sklearn.preprocessing import LabelEncoder, StandardScaler\n",
    "\n",
    "# Re-reading the dataset and skipping problematic lines\n",
    "df = pd.read_csv('data_20221_cleaned.csv')\n",
    "\n",
    "# Dropping columns with excessive missing values and those that are not relevant for water quality prediction\n",
    "cols_to_drop = ['Well ID', 'S.No', 'STATE', 'DISTRICT', 'BLOCK', 'LOCATION', 'LATITUDE', 'LONGITUDE', 'Year', 'PO4', 'SiO2', 'TDS', 'U(ppb)']\n",
    "df_clean = df.drop(columns=cols_to_drop)\n",
    "\n",
    "# Convert all columns to numeric, coercing errors to NaN (Not a Number)\n",
    "df_clean = df_clean.apply(pd.to_numeric, errors='coerce')\n",
    "\n",
    "# Fill missing values with the median of each column\n",
    "df_clean.fillna(df_clean.median(numeric_only=True), inplace=True)\n",
    "\n",
    "# Create a water quality label based on multiple parameters: pH, EC, TH, NO3, Na, K, F\n",
    "# The labels are: \"Good\", \"Moderate\", \"Poor\"\n",
    "conditions = [\n",
    "    (df_clean['pH'] >= 6.5) & (df_clean['pH'] <= 8.5) &\n",
    "    (df_clean['EC'] <= 1500) &\n",
    "    (df_clean['TH'] <= 120) &\n",
    "    (df_clean['NO3'] <= 10) &\n",
    "    (df_clean['Na'] <= 200) &\n",
    "    (df_clean['K'] <= 10) &\n",
    "    (df_clean['F'] <= 1.5),\n",
    "    (df_clean['pH'] < 6.5) | (df_clean['pH'] > 8.5) |\n",
    "    (df_clean['EC'] > 1500) |\n",
    "    (df_clean['TH'] > 120) |\n",
    "    (df_clean['NO3'] > 10) |\n",
    "    (df_clean['Na'] > 200) |\n",
    "    (df_clean['K'] > 10) |\n",
    "    (df_clean['F'] > 1.5)\n",
    "]\n",
    "choices = ['Good', 'Poor']\n",
    "df_clean['Water_Quality'] = np.select(conditions, choices, default='Moderate')\n",
    "\n",
    "# Convert the Water_Quality labels into numerical values\n",
    "label_encoder = LabelEncoder()\n",
    "df_clean['Water_Quality'] = label_encoder.fit_transform(df_clean['Water_Quality'])\n",
    "\n",
    "# Split the data into features and target label\n",
    "X = df_clean.drop('Water_Quality', axis=1)\n",
    "y = df_clean['Water_Quality']\n",
    "\n",
    "# Standardize the features\n",
    "scaler = StandardScaler()\n",
    "X_scaled = scaler.fit_transform(X)\n",
    "\n",
    "# Split the data into training and test sets\n",
    "X_train, X_test, y_train, y_test = train_test_split(X_scaled, y, test_size=0.2, random_state=42)\n",
    "\n",
    "# Initialize and train the Random Forest Classifier\n",
    "clf_multi_param = RandomForestClassifier(random_state=42)\n",
    "clf_multi_param.fit(X_train, y_train)\n",
    "\n",
    "# Evaluate the model\n",
    "y_pred = clf_multi_param.predict(X_test)\n",
    "accuracy_multi_param = accuracy_score(y_test, y_pred)\n",
    "classification_rep_multi_param = classification_report(y_test, y_pred, target_names=label_encoder.classes_)\n",
    "\n",
    "accuracy_multi_param, classification_rep_multi_param\n"
   ]
  }
 ],
 "metadata": {
  "kernelspec": {
   "display_name": "Python 3 (ipykernel)",
   "language": "python",
   "name": "python3"
  },
  "language_info": {
   "codemirror_mode": {
    "name": "ipython",
    "version": 3
   },
   "file_extension": ".py",
   "mimetype": "text/x-python",
   "name": "python",
   "nbconvert_exporter": "python",
   "pygments_lexer": "ipython3",
   "version": "3.11.1"
  }
 },
 "nbformat": 4,
 "nbformat_minor": 5
}
